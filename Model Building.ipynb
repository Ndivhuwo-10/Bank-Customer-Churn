{
 "cells": [
  {
   "cell_type": "code",
   "execution_count": 19,
   "id": "41455d78-f2d6-438a-8d2c-ee1bdf600ab0",
   "metadata": {},
   "outputs": [],
   "source": [
    "import pandas as pd\n",
    "import seaborn as sns\n",
    "import matplotlib.pyplot as plt\n",
    "from sklearn.ensemble import RandomForestClassifier\n",
    "from sklearn.model_selection import GridSearchCV, train_test_split\n",
    "from sklearn.metrics import classification_report,confusion_matrix,roc_auc_score, roc_curve, auc\n",
    "from sklearn.model_selection import train_test_split, GridSearchCV\n",
    "from imblearn.over_sampling import SMOTE\n",
    "import xgboost as xgb\n",
    "import joblib"
   ]
  },
  {
   "cell_type": "code",
   "execution_count": 20,
   "id": "d28f993b-3685-4add-9ff3-8dc72576e64a",
   "metadata": {},
   "outputs": [],
   "source": [
    "df_train=pd.read_csv(\"Train Data.csv\",delimiter=\";\")"
   ]
  },
  {
   "cell_type": "code",
   "execution_count": 21,
   "id": "3f1d9f35-144f-4315-af43-37620da14331",
   "metadata": {},
   "outputs": [
    {
     "data": {
      "text/html": [
       "<div>\n",
       "<style scoped>\n",
       "    .dataframe tbody tr th:only-of-type {\n",
       "        vertical-align: middle;\n",
       "    }\n",
       "\n",
       "    .dataframe tbody tr th {\n",
       "        vertical-align: top;\n",
       "    }\n",
       "\n",
       "    .dataframe thead th {\n",
       "        text-align: right;\n",
       "    }\n",
       "</style>\n",
       "<table border=\"1\" class=\"dataframe\">\n",
       "  <thead>\n",
       "    <tr style=\"text-align: right;\">\n",
       "      <th></th>\n",
       "      <th>CreditScore</th>\n",
       "      <th>Age</th>\n",
       "      <th>Tenure</th>\n",
       "      <th>NumOfProducts</th>\n",
       "      <th>HasCrCard</th>\n",
       "      <th>IsActiveMember</th>\n",
       "      <th>Exited</th>\n",
       "      <th>Balance_scaled</th>\n",
       "      <th>EstimatedSalary_scaled</th>\n",
       "    </tr>\n",
       "  </thead>\n",
       "  <tbody>\n",
       "    <tr>\n",
       "      <th>0</th>\n",
       "      <td>0.636</td>\n",
       "      <td>0.202703</td>\n",
       "      <td>3</td>\n",
       "      <td>2</td>\n",
       "      <td>1</td>\n",
       "      <td>0</td>\n",
       "      <td>0</td>\n",
       "      <td>-0.883163</td>\n",
       "      <td>1.369486</td>\n",
       "    </tr>\n",
       "    <tr>\n",
       "      <th>1</th>\n",
       "      <td>0.554</td>\n",
       "      <td>0.202703</td>\n",
       "      <td>1</td>\n",
       "      <td>2</td>\n",
       "      <td>1</td>\n",
       "      <td>1</td>\n",
       "      <td>0</td>\n",
       "      <td>-0.883163</td>\n",
       "      <td>-1.254085</td>\n",
       "    </tr>\n",
       "    <tr>\n",
       "      <th>2</th>\n",
       "      <td>0.656</td>\n",
       "      <td>0.297297</td>\n",
       "      <td>10</td>\n",
       "      <td>2</td>\n",
       "      <td>1</td>\n",
       "      <td>0</td>\n",
       "      <td>0</td>\n",
       "      <td>-0.883163</td>\n",
       "      <td>1.437422</td>\n",
       "    </tr>\n",
       "    <tr>\n",
       "      <th>3</th>\n",
       "      <td>0.462</td>\n",
       "      <td>0.216216</td>\n",
       "      <td>2</td>\n",
       "      <td>1</td>\n",
       "      <td>1</td>\n",
       "      <td>1</td>\n",
       "      <td>0</td>\n",
       "      <td>1.486918</td>\n",
       "      <td>-0.557018</td>\n",
       "    </tr>\n",
       "    <tr>\n",
       "      <th>4</th>\n",
       "      <td>0.732</td>\n",
       "      <td>0.202703</td>\n",
       "      <td>5</td>\n",
       "      <td>2</td>\n",
       "      <td>1</td>\n",
       "      <td>1</td>\n",
       "      <td>0</td>\n",
       "      <td>-0.883163</td>\n",
       "      <td>-1.938770</td>\n",
       "    </tr>\n",
       "    <tr>\n",
       "      <th>...</th>\n",
       "      <td>...</td>\n",
       "      <td>...</td>\n",
       "      <td>...</td>\n",
       "      <td>...</td>\n",
       "      <td>...</td>\n",
       "      <td>...</td>\n",
       "      <td>...</td>\n",
       "      <td>...</td>\n",
       "      <td>...</td>\n",
       "    </tr>\n",
       "    <tr>\n",
       "      <th>165029</th>\n",
       "      <td>0.634</td>\n",
       "      <td>0.202703</td>\n",
       "      <td>2</td>\n",
       "      <td>1</td>\n",
       "      <td>1</td>\n",
       "      <td>1</td>\n",
       "      <td>0</td>\n",
       "      <td>-0.883163</td>\n",
       "      <td>0.382957</td>\n",
       "    </tr>\n",
       "    <tr>\n",
       "      <th>165030</th>\n",
       "      <td>0.884</td>\n",
       "      <td>0.229730</td>\n",
       "      <td>3</td>\n",
       "      <td>1</td>\n",
       "      <td>0</td>\n",
       "      <td>0</td>\n",
       "      <td>0</td>\n",
       "      <td>-0.883163</td>\n",
       "      <td>0.382951</td>\n",
       "    </tr>\n",
       "    <tr>\n",
       "      <th>165031</th>\n",
       "      <td>0.430</td>\n",
       "      <td>0.175676</td>\n",
       "      <td>5</td>\n",
       "      <td>1</td>\n",
       "      <td>1</td>\n",
       "      <td>1</td>\n",
       "      <td>0</td>\n",
       "      <td>-0.883163</td>\n",
       "      <td>0.295366</td>\n",
       "    </tr>\n",
       "    <tr>\n",
       "      <th>165032</th>\n",
       "      <td>0.408</td>\n",
       "      <td>0.162162</td>\n",
       "      <td>7</td>\n",
       "      <td>1</td>\n",
       "      <td>0</td>\n",
       "      <td>1</td>\n",
       "      <td>0</td>\n",
       "      <td>1.688303</td>\n",
       "      <td>-0.823217</td>\n",
       "    </tr>\n",
       "    <tr>\n",
       "      <th>165033</th>\n",
       "      <td>1.000</td>\n",
       "      <td>0.175676</td>\n",
       "      <td>1</td>\n",
       "      <td>1</td>\n",
       "      <td>1</td>\n",
       "      <td>0</td>\n",
       "      <td>1</td>\n",
       "      <td>-0.883163</td>\n",
       "      <td>-1.013925</td>\n",
       "    </tr>\n",
       "  </tbody>\n",
       "</table>\n",
       "<p>165034 rows × 9 columns</p>\n",
       "</div>"
      ],
      "text/plain": [
       "        CreditScore       Age  Tenure  NumOfProducts  HasCrCard  \\\n",
       "0             0.636  0.202703       3              2          1   \n",
       "1             0.554  0.202703       1              2          1   \n",
       "2             0.656  0.297297      10              2          1   \n",
       "3             0.462  0.216216       2              1          1   \n",
       "4             0.732  0.202703       5              2          1   \n",
       "...             ...       ...     ...            ...        ...   \n",
       "165029        0.634  0.202703       2              1          1   \n",
       "165030        0.884  0.229730       3              1          0   \n",
       "165031        0.430  0.175676       5              1          1   \n",
       "165032        0.408  0.162162       7              1          0   \n",
       "165033        1.000  0.175676       1              1          1   \n",
       "\n",
       "        IsActiveMember  Exited  Balance_scaled  EstimatedSalary_scaled  \n",
       "0                    0       0       -0.883163                1.369486  \n",
       "1                    1       0       -0.883163               -1.254085  \n",
       "2                    0       0       -0.883163                1.437422  \n",
       "3                    1       0        1.486918               -0.557018  \n",
       "4                    1       0       -0.883163               -1.938770  \n",
       "...                ...     ...             ...                     ...  \n",
       "165029               1       0       -0.883163                0.382957  \n",
       "165030               0       0       -0.883163                0.382951  \n",
       "165031               1       0       -0.883163                0.295366  \n",
       "165032               1       0        1.688303               -0.823217  \n",
       "165033               0       1       -0.883163               -1.013925  \n",
       "\n",
       "[165034 rows x 9 columns]"
      ]
     },
     "execution_count": 21,
     "metadata": {},
     "output_type": "execute_result"
    }
   ],
   "source": [
    "df_train"
   ]
  },
  {
   "cell_type": "markdown",
   "id": "265be2c1-21eb-42e7-ac8c-f08b8df323b6",
   "metadata": {},
   "source": [
    "# Train Test Split"
   ]
  },
  {
   "cell_type": "code",
   "execution_count": 3,
   "id": "4bf6dabe-673c-4994-b9c5-bbba12d467e7",
   "metadata": {},
   "outputs": [],
   "source": [
    "x=df_train.drop(['Exited'], axis=1)\n",
    "y=df_train['Exited']"
   ]
  },
  {
   "cell_type": "code",
   "execution_count": 4,
   "id": "3dda48c5-63ae-4fbc-bbe3-5105dcf4f81b",
   "metadata": {},
   "outputs": [],
   "source": [
    "# Perform train-test split\n",
    "x_train, x_test, y_train, y_test = train_test_split(x, y, test_size=0.2, random_state=42)"
   ]
  },
  {
   "cell_type": "markdown",
   "id": "c0d10e43-add7-4223-8f34-0e26f17b7444",
   "metadata": {},
   "source": [
    "# Handling Class Imbalance"
   ]
  },
  {
   "cell_type": "code",
   "execution_count": 5,
   "id": "bdddaba2-09be-4690-bd31-6f2214108563",
   "metadata": {},
   "outputs": [],
   "source": [
    "# Apply SMOTE to the training set\n",
    "smote = SMOTE(random_state=42)\n",
    "x_train_smote, y_train_smote = smote.fit_resample(x_train, y_train)"
   ]
  },
  {
   "cell_type": "code",
   "execution_count": 6,
   "id": "d197cb31-cad9-4b5e-bce7-67b5c88dd04c",
   "metadata": {},
   "outputs": [
    {
     "data": {
      "text/plain": [
       "(Exited\n",
       " 0    104061\n",
       " 1     27966\n",
       " Name: count, dtype: int64,\n",
       " Exited\n",
       " 0    104061\n",
       " 1    104061\n",
       " Name: count, dtype: int64)"
      ]
     },
     "execution_count": 6,
     "metadata": {},
     "output_type": "execute_result"
    }
   ],
   "source": [
    "y_train.value_counts(),y_train_smote.value_counts()"
   ]
  },
  {
   "cell_type": "markdown",
   "id": "c4540389-6ba9-4dbf-b71b-68b31cce5fa4",
   "metadata": {},
   "source": [
    "# XGBoost"
   ]
  },
  {
   "cell_type": "code",
   "execution_count": 7,
   "id": "a82df7c3-7670-4dd5-9596-0c313f9316b8",
   "metadata": {},
   "outputs": [],
   "source": [
    "# Set up Hyperparameter tuning using GridSearchCV for XGBoost\n",
    "\n",
    "param_grid = {\n",
    "    'n_estimators': [50, 100, 200],\n",
    "    'learning_rate': [0.01, 0.1, 0.2],\n",
    "    'max_depth': [3, 5, 7],\n",
    "    'subsample': [0.5, 0.8],\n",
    "    'colsample_bytree': [0.8, 1.0]\n",
    "    #'scale_pos_weight': [1, 3, 5],\n",
    "    #'gamma': [0, 0.1, 0.5],\n",
    "}\n"
   ]
  },
  {
   "cell_type": "code",
   "execution_count": 8,
   "id": "e4129c27-5bd5-439c-9ec1-94524d2d620d",
   "metadata": {},
   "outputs": [
    {
     "name": "stdout",
     "output_type": "stream",
     "text": [
      "Fitting 5 folds for each of 108 candidates, totalling 540 fits\n"
     ]
    }
   ],
   "source": [
    "xgb_clf = xgb.XGBClassifier(random_state=42, eval_metric='logloss', tree_method='hist')\n",
    "\n",
    "grid_search = GridSearchCV(estimator=xgb_clf, param_grid=param_grid, cv=5, n_jobs=-1, verbose=1, scoring='accuracy', error_score='raise')\n",
    "\n",
    "# Fit the model\n",
    "grid_search.fit(x_train_smote, y_train_smote)\n",
    "\n",
    "# Best estimator\n",
    "best_xgb = grid_search.best_estimator_"
   ]
  },
  {
   "cell_type": "code",
   "execution_count": 9,
   "id": "3bad4665-dd2f-43fc-87d0-e1d99b4a2f32",
   "metadata": {},
   "outputs": [
    {
     "name": "stdout",
     "output_type": "stream",
     "text": [
      "Training Classification Report:\n",
      "              precision    recall  f1-score   support\n",
      "\n",
      "           0       0.87      0.93      0.90    104061\n",
      "           1       0.93      0.86      0.89    104061\n",
      "\n",
      "    accuracy                           0.90    208122\n",
      "   macro avg       0.90      0.90      0.90    208122\n",
      "weighted avg       0.90      0.90      0.90    208122\n",
      "\n",
      "Training Confusion Matrix:\n",
      "[[96897  7164]\n",
      " [14063 89998]]\n"
     ]
    }
   ],
   "source": [
    "# Print classification report and confusion matrix for training set\n",
    "y_train_pred = best_xgb.predict(x_train_smote)\n",
    "print(\"Training Classification Report:\")\n",
    "print(classification_report(y_train_smote, y_train_pred))\n",
    "print(\"Training Confusion Matrix:\")\n",
    "print(confusion_matrix(y_train_smote, y_train_pred))"
   ]
  },
  {
   "cell_type": "code",
   "execution_count": null,
   "id": "e9064fe8-02f8-4eba-96af-8f27d07bcb7f",
   "metadata": {},
   "outputs": [],
   "source": []
  },
  {
   "cell_type": "code",
   "execution_count": 10,
   "id": "57dd827f-bd38-477e-83a3-a7b9b91488af",
   "metadata": {},
   "outputs": [
    {
     "name": "stdout",
     "output_type": "stream",
     "text": [
      "Testing Classification Report:\n",
      "              precision    recall  f1-score   support\n",
      "\n",
      "           0       0.89      0.91      0.90     26052\n",
      "           1       0.63      0.60      0.62      6955\n",
      "\n",
      "    accuracy                           0.84     33007\n",
      "   macro avg       0.76      0.75      0.76     33007\n",
      "weighted avg       0.84      0.84      0.84     33007\n",
      "\n"
     ]
    }
   ],
   "source": [
    "# Print classification report for testing set\n",
    "y_test_pred = best_xgb.predict(x_test)\n",
    "print(\"Testing Classification Report:\")\n",
    "print(classification_report(y_test, y_test_pred))"
   ]
  },
  {
   "cell_type": "code",
   "execution_count": 12,
   "id": "84773007-07db-4d1b-81aa-f6dcf9d9b1c1",
   "metadata": {},
   "outputs": [
    {
     "data": {
      "image/png": "[encoded data removed]",
      "text/plain": [
       "<Figure size 800x600 with 1 Axes>"
      ]
     },
     "metadata": {},
     "output_type": "display_data"
    }
   ],
   "source": [
    "# Confusion matrix for testing set\n",
    "test_conf_matrix = confusion_matrix(y_test, y_test_pred)\n",
    "#print(\"Testing Confusion Matrix:\")\n",
    "#print(test_conf_matrix)\n",
    "\n",
    "# Plot confusion matrix as a heatmap \n",
    "plt.figure(figsize=(8, 6))\n",
    "sns.heatmap(test_conf_matrix, annot=True, fmt='d', cmap='Blues', cbar=False, xticklabels=['Predicted Stay', 'Predicted Exited'], yticklabels=['Actual Non-Stay', 'Actual Exited'])\n",
    "plt.title('Confusion Matrix for Testing Set')\n",
    "plt.xlabel('Predicted')\n",
    "plt.ylabel('Actual')\n",
    "plt.show()"
   ]
  },
  {
   "cell_type": "code",
   "execution_count": 15,
   "id": "1c8a4514-806d-4dc4-9c50-3f4aca53c9d2",
   "metadata": {},
   "outputs": [
    {
     "data": {
      "image/png": "[encoded data removed]",
      "text/plain": [
       "<Figure size 1000x600 with 1 Axes>"
      ]
     },
     "metadata": {},
     "output_type": "display_data"
    }
   ],
   "source": [
    "# ROC Curve for testing set\n",
    "y_test_prob = best_xgb.predict_proba(x_test)[:, 1]\n",
    "fpr, tpr, _ = roc_curve(y_test, y_test_prob)\n",
    "roc_auc = auc(fpr, tpr)\n",
    "\n",
    "plt.figure(figsize=(10, 6))\n",
    "plt.plot(fpr, tpr, label=f'AUC = {roc_auc:.2f}')\n",
    "plt.plot([0, 1], [0, 1], 'r--')\n",
    "plt.xlim([0.0, 1.0])\n",
    "plt.ylim([0.0, 1.05])\n",
    "plt.xlabel('False Positive Rate')\n",
    "plt.ylabel('True Positive Rate')\n",
    "plt.title('ROC Curve')\n",
    "plt.legend(loc='lower right')\n",
    "plt.show()"
   ]
  },
  {
   "cell_type": "code",
   "execution_count": 17,
   "id": "4da2df18-1a2b-4fe3-8d01-0c5539fa3502",
   "metadata": {},
   "outputs": [
    {
     "data": {
      "text/plain": [
       "['churn_xgb_model.pkl']"
      ]
     },
     "execution_count": 17,
     "metadata": {},
     "output_type": "execute_result"
    }
   ],
   "source": [
    "# Save the model to a file\n",
    "joblib.dump(best_xgb, 'churn_xgb_model.pkl')"
   ]
  }
 ],
 "metadata": {
  "kernelspec": {
   "display_name": "Python 3 (ipykernel)",
   "language": "python",
   "name": "python3"
  },
  "language_info": {
   "codemirror_mode": {
    "name": "ipython",
    "version": 3
   },
   "file_extension": ".py",
   "mimetype": "text/x-python",
   "name": "python",
   "nbconvert_exporter": "python",
   "pygments_lexer": "ipython3",
   "version": "3.11.5"
  },
  "widgets": {
   "application/vnd.jupyter.widget-state+json": {
    "state": {},
    "version_major": 2,
    "version_minor": 0
   }
  }
 },
 "nbformat": 4,
 "nbformat_minor": 5
}
